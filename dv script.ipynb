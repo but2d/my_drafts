{
 "cells": [
  {
   "cell_type": "code",
   "execution_count": 1,
   "metadata": {
    "collapsed": false
   },
   "outputs": [],
   "source": [
    "# proxy for telegram (it's Russia!)\n",
    "import socks\n",
    "my_proxy = (socks.SOCKS5, '00.00.000.00', 7777) # your proxy_ip & proxy_port"
   ]
  },
  {
   "cell_type": "code",
   "execution_count": 1,
   "metadata": {
    "collapsed": true
   },
   "outputs": [],
   "source": [
    "# enable logging for getting hidden errors\n",
    "# more info here: https://docs.telethon.dev/en/latest/basic/updates.html#updates\n",
    "import logging\n",
    "logging.basicConfig(format='[%(levelname) 5s/%(asctime)s] %(name)s: %(message)s', \n",
    "                    level=logging.WARNING)\n",
    "\n",
    "level=logging.DEBUG # will show a lot of output to help debugging issues in the library"
   ]
  },
  {
   "cell_type": "code",
   "execution_count": 3,
   "metadata": {
    "collapsed": false
   },
   "outputs": [],
   "source": [
    "# let's check it\n",
    "from telethon import TelegramClient, events\n",
    "\n",
    "# you should create app (it's easy & free) and get api_id and api_hash\n",
    "# more info here: https://docs.telethon.dev/en/latest/basic/signing-in.html#signing-in\n",
    "api_id = 11111\n",
    "api_hash = '000111222333444abcde555'\n",
    "\n",
    "# the first parameter is the .session file name (absolute paths allowed)\n",
    "with TelegramClient('anon', api_id, api_hash, proxy=my_proxy) as client: # creating the client object\n",
    "    client.loop.run_until_complete(client.send_message('me', 'Hello, myself!')) # sending 'Hello, myself' to Saved Messages"
   ]
  },
  {
   "cell_type": "code",
   "execution_count": 4,
   "metadata": {
    "collapsed": true
   },
   "outputs": [],
   "source": [
    "# func for decline\n",
    "import time\n",
    "\n",
    "async def send_no():\n",
    "    time.sleep(0.25)\n",
    "    await client.send_message('leomatchbot', '3')"
   ]
  },
  {
   "cell_type": "code",
   "execution_count": 5,
   "metadata": {
    "collapsed": true
   },
   "outputs": [],
   "source": [
    "# declare the blocks\n",
    "# you should type your params here for blocking content!\n",
    "block_lst = ['15', '16', 'меф', 'sugar daddy', 'буерак']"
   ]
  },
  {
   "cell_type": "code",
   "execution_count": null,
   "metadata": {
    "collapsed": false
   },
   "outputs": [],
   "source": [
    "# handler for new messages and loop\n",
    "@client.on(events.NewMessage(chats='leomatchbot', incoming=True))\n",
    "async def bot_handler(event):\n",
    "    for block in block_lst:\n",
    "        if block in event.raw_text:\n",
    "            await send_no()\n",
    "            break\n",
    "\n",
    "client.start()\n",
    "client.run_until_disconnected()"
   ]
  }
 ],
 "metadata": {
  "anaconda-cloud": {},
  "kernelspec": {
   "display_name": "Python [conda root]",
   "language": "python",
   "name": "conda-root-py"
  },
  "language_info": {
   "codemirror_mode": {
    "name": "ipython",
    "version": 3
   },
   "file_extension": ".py",
   "mimetype": "text/x-python",
   "name": "python",
   "nbconvert_exporter": "python",
   "pygments_lexer": "ipython3",
   "version": "3.5.2"
  }
 },
 "nbformat": 4,
 "nbformat_minor": 1
}
