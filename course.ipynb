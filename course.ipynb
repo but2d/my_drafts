{
 "cells": [
  {
   "cell_type": "code",
   "execution_count": 13,
   "metadata": {
    "ExecuteTime": {
     "end_time": "2020-05-27T21:35:59.686574Z",
     "start_time": "2020-05-27T21:35:59.683574Z"
    }
   },
   "outputs": [],
   "source": [
    "available_sex = ['boy', 'girl']\n",
    "available_age = [15, 16, 17, 18]\n",
    "available_premium = [False, True]"
   ]
  },
  {
   "cell_type": "code",
   "execution_count": 67,
   "metadata": {
    "ExecuteTime": {
     "end_time": "2020-05-27T22:06:09.512574Z",
     "start_time": "2020-05-27T22:06:09.507574Z"
    }
   },
   "outputs": [],
   "source": [
    "from collections import namedtuple\n",
    "from numpy.random import choice\n",
    "\n",
    "Student = namedtuple('Student', ['sex', 'age', 'premium'])\n",
    "\n",
    "number_of_students = 25\n",
    "\n",
    "class Course:\n",
    "    \n",
    "    def __init__(self):\n",
    "        \n",
    "        self._students = [Student(choice(available_sex), \n",
    "                                  choice(available_age),\n",
    "                                  choice(available_premium, p=[0.7, 0.3]))\n",
    "                         for i in range (number_of_students)]\n",
    "    \n",
    "    def __len__(self):\n",
    "        return len(self._students)\n",
    "    \n",
    "    def __getitem__(self, position):\n",
    "        return self._students[position]\n",
    "    \n",
    "    def __repr__(self):\n",
    "        return 'Course with {} students'.format(number_of_students)"
   ]
  },
  {
   "cell_type": "code",
   "execution_count": 68,
   "metadata": {
    "ExecuteTime": {
     "end_time": "2020-05-27T22:06:09.940574Z",
     "start_time": "2020-05-27T22:06:09.935574Z"
    }
   },
   "outputs": [
    {
     "data": {
      "text/plain": [
       "Course with 25 students"
      ]
     },
     "execution_count": 68,
     "metadata": {},
     "output_type": "execute_result"
    }
   ],
   "source": [
    "helper_law = Course()\n",
    "helper_law"
   ]
  },
  {
   "cell_type": "code",
   "execution_count": 69,
   "metadata": {
    "ExecuteTime": {
     "end_time": "2020-05-27T22:06:11.258574Z",
     "start_time": "2020-05-27T22:06:11.255574Z"
    }
   },
   "outputs": [
    {
     "data": {
      "text/plain": [
       "25"
      ]
     },
     "execution_count": 69,
     "metadata": {},
     "output_type": "execute_result"
    }
   ],
   "source": [
    "len(helper_law)"
   ]
  },
  {
   "cell_type": "code",
   "execution_count": 70,
   "metadata": {
    "ExecuteTime": {
     "end_time": "2020-05-27T22:06:11.924574Z",
     "start_time": "2020-05-27T22:06:11.920574Z"
    },
    "scrolled": true
   },
   "outputs": [
    {
     "data": {
      "text/plain": [
       "Student(sex='girl', age=16, premium=False)"
      ]
     },
     "execution_count": 70,
     "metadata": {},
     "output_type": "execute_result"
    }
   ],
   "source": [
    "helper_law[7]"
   ]
  },
  {
   "cell_type": "code",
   "execution_count": 71,
   "metadata": {
    "ExecuteTime": {
     "end_time": "2020-05-27T22:06:12.888574Z",
     "start_time": "2020-05-27T22:06:12.884574Z"
    }
   },
   "outputs": [
    {
     "data": {
      "text/plain": [
       "16"
      ]
     },
     "execution_count": 71,
     "metadata": {},
     "output_type": "execute_result"
    }
   ],
   "source": [
    "masha = helper_law[7]\n",
    "masha.age"
   ]
  },
  {
   "cell_type": "code",
   "execution_count": 72,
   "metadata": {
    "ExecuteTime": {
     "end_time": "2020-05-27T22:06:17.615574Z",
     "start_time": "2020-05-27T22:06:17.611574Z"
    }
   },
   "outputs": [
    {
     "name": "stdout",
     "output_type": "stream",
     "text": [
      "Student(sex='girl', age=15, premium=True)\n",
      "Student(sex='boy', age=16, premium=False)\n",
      "Student(sex='girl', age=17, premium=True)\n",
      "Student(sex='girl', age=17, premium=True)\n",
      "Student(sex='boy', age=17, premium=False)\n",
      "Student(sex='boy', age=15, premium=False)\n",
      "Student(sex='boy', age=15, premium=False)\n",
      "Student(sex='girl', age=16, premium=False)\n",
      "Student(sex='boy', age=17, premium=False)\n",
      "Student(sex='boy', age=16, premium=False)\n",
      "Student(sex='girl', age=16, premium=False)\n",
      "Student(sex='girl', age=17, premium=False)\n",
      "Student(sex='girl', age=17, premium=False)\n",
      "Student(sex='boy', age=18, premium=False)\n",
      "Student(sex='boy', age=17, premium=False)\n",
      "Student(sex='boy', age=15, premium=True)\n",
      "Student(sex='girl', age=17, premium=False)\n",
      "Student(sex='girl', age=17, premium=False)\n",
      "Student(sex='girl', age=15, premium=False)\n",
      "Student(sex='girl', age=16, premium=False)\n",
      "Student(sex='girl', age=18, premium=True)\n",
      "Student(sex='girl', age=18, premium=False)\n",
      "Student(sex='girl', age=18, premium=False)\n",
      "Student(sex='girl', age=18, premium=True)\n",
      "Student(sex='boy', age=16, premium=False)\n"
     ]
    }
   ],
   "source": [
    "for student in helper_law:\n",
    "    print(student)"
   ]
  }
 ],
 "metadata": {
  "hide_input": false,
  "kernelspec": {
   "display_name": "Python 3",
   "language": "python",
   "name": "python3"
  },
  "language_info": {
   "codemirror_mode": {
    "name": "ipython",
    "version": 3
   },
   "file_extension": ".py",
   "mimetype": "text/x-python",
   "name": "python",
   "nbconvert_exporter": "python",
   "pygments_lexer": "ipython3",
   "version": "3.8.1"
  },
  "toc": {
   "base_numbering": 1,
   "nav_menu": {},
   "number_sections": true,
   "sideBar": true,
   "skip_h1_title": false,
   "title_cell": "Table of Contents",
   "title_sidebar": "Contents",
   "toc_cell": false,
   "toc_position": {},
   "toc_section_display": true,
   "toc_window_display": false
  },
  "varInspector": {
   "cols": {
    "lenName": 16,
    "lenType": 16,
    "lenVar": 40
   },
   "kernels_config": {
    "python": {
     "delete_cmd_postfix": "",
     "delete_cmd_prefix": "del ",
     "library": "var_list.py",
     "varRefreshCmd": "print(var_dic_list())"
    },
    "r": {
     "delete_cmd_postfix": ") ",
     "delete_cmd_prefix": "rm(",
     "library": "var_list.r",
     "varRefreshCmd": "cat(var_dic_list()) "
    }
   },
   "types_to_exclude": [
    "module",
    "function",
    "builtin_function_or_method",
    "instance",
    "_Feature"
   ],
   "window_display": false
  }
 },
 "nbformat": 4,
 "nbformat_minor": 4
}
