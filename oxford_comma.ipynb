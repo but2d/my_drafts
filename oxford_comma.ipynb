{
 "cells": [
  {
   "cell_type": "code",
   "execution_count": 9,
   "metadata": {
    "ExecuteTime": {
     "end_time": "2020-05-31T15:53:19.553800Z",
     "start_time": "2020-05-31T15:52:54.159800Z"
    }
   },
   "outputs": [
    {
     "name": "stdout",
     "output_type": "stream",
     "text": [
      "Me, and my Dad and my Mom like Python <3 \n"
     ]
    }
   ],
   "source": [
    "sen = input()\n",
    "unions = ['or', 'and', 'nor']\n",
    "sentence = sen.split(' ')"
   ]
  },
  {
   "cell_type": "code",
   "execution_count": 11,
   "metadata": {
    "ExecuteTime": {
     "end_time": "2020-05-31T15:53:23.302800Z",
     "start_time": "2020-05-31T15:53:23.298800Z"
    }
   },
   "outputs": [
    {
     "name": "stdout",
     "output_type": "stream",
     "text": [
      "Me, and my Dad, and my Mom like Python <3 \n"
     ]
    }
   ],
   "source": [
    "print(oxford_comma(sentence))"
   ]
  },
  {
   "cell_type": "code",
   "execution_count": 10,
   "metadata": {
    "ExecuteTime": {
     "end_time": "2020-05-31T15:53:21.580800Z",
     "start_time": "2020-05-31T15:53:21.576800Z"
    }
   },
   "outputs": [],
   "source": [
    "def oxford_comma(sentence):\n",
    "    \"\"\" Func that creates the final comma in a list of things. \"\"\"\n",
    "    if is_long(sentence):\n",
    "        if is_intersects(sentence, unions):\n",
    "            union = get_union_not_in_first_pos(sentence, unions)\n",
    "            if union:\n",
    "                el_before_un_index = elem_before_union_index(sentence, union)\n",
    "                el_before_un = sentence[el_before_un_index] \n",
    "                if not_include_comma(el_before_un):\n",
    "                    sentence[el_before_un_index] = el_before_un + ','\n",
    "    return ' '.join(sentence)"
   ]
  },
  {
   "cell_type": "code",
   "execution_count": 2,
   "metadata": {
    "ExecuteTime": {
     "end_time": "2020-05-31T15:50:39.478800Z",
     "start_time": "2020-05-31T15:50:39.476800Z"
    }
   },
   "outputs": [],
   "source": [
    "def is_intersects(sen, uns):\n",
    "    if set(sen) & set(uns):\n",
    "        return True"
   ]
  },
  {
   "cell_type": "code",
   "execution_count": 3,
   "metadata": {
    "ExecuteTime": {
     "end_time": "2020-05-31T15:50:40.613800Z",
     "start_time": "2020-05-31T15:50:40.610800Z"
    }
   },
   "outputs": [],
   "source": [
    "def is_long(sen):\n",
    "    if len(sen) > 3:\n",
    "        return True"
   ]
  },
  {
   "cell_type": "code",
   "execution_count": 4,
   "metadata": {
    "ExecuteTime": {
     "end_time": "2020-05-31T15:50:42.691800Z",
     "start_time": "2020-05-31T15:50:42.688800Z"
    }
   },
   "outputs": [],
   "source": [
    "def get_union_not_in_first_pos(sen, uns):\n",
    "    for union in uns:\n",
    "        if union in sen[1:]:\n",
    "            return union\n",
    "    return None           "
   ]
  },
  {
   "cell_type": "code",
   "execution_count": 5,
   "metadata": {
    "ExecuteTime": {
     "end_time": "2020-05-31T15:50:43.787800Z",
     "start_time": "2020-05-31T15:50:43.784800Z"
    }
   },
   "outputs": [],
   "source": [
    "def elem_before_union_index(sen, un):\n",
    "    rev_sen = sen [::-1]\n",
    "    neg_un_index = - (rev_sen.index(un) + 1)\n",
    "    return neg_un_index - 1"
   ]
  },
  {
   "cell_type": "code",
   "execution_count": 6,
   "metadata": {
    "ExecuteTime": {
     "end_time": "2020-05-31T15:50:44.515800Z",
     "start_time": "2020-05-31T15:50:44.512800Z"
    }
   },
   "outputs": [],
   "source": [
    "def not_include_comma(elem):\n",
    "    if not ',' in elem:\n",
    "        return True    "
   ]
  }
 ],
 "metadata": {
  "hide_input": false,
  "kernelspec": {
   "display_name": "Python 3",
   "language": "python",
   "name": "python3"
  },
  "language_info": {
   "codemirror_mode": {
    "name": "ipython",
    "version": 3
   },
   "file_extension": ".py",
   "mimetype": "text/x-python",
   "name": "python",
   "nbconvert_exporter": "python",
   "pygments_lexer": "ipython3",
   "version": "3.8.1"
  },
  "toc": {
   "base_numbering": 1,
   "nav_menu": {},
   "number_sections": true,
   "sideBar": true,
   "skip_h1_title": false,
   "title_cell": "Table of Contents",
   "title_sidebar": "Contents",
   "toc_cell": false,
   "toc_position": {},
   "toc_section_display": true,
   "toc_window_display": false
  },
  "varInspector": {
   "cols": {
    "lenName": 16,
    "lenType": 16,
    "lenVar": 40
   },
   "kernels_config": {
    "python": {
     "delete_cmd_postfix": "",
     "delete_cmd_prefix": "del ",
     "library": "var_list.py",
     "varRefreshCmd": "print(var_dic_list())"
    },
    "r": {
     "delete_cmd_postfix": ") ",
     "delete_cmd_prefix": "rm(",
     "library": "var_list.r",
     "varRefreshCmd": "cat(var_dic_list()) "
    }
   },
   "types_to_exclude": [
    "module",
    "function",
    "builtin_function_or_method",
    "instance",
    "_Feature"
   ],
   "window_display": false
  }
 },
 "nbformat": 4,
 "nbformat_minor": 4
}
