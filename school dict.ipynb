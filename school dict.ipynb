{
 "cells": [
  {
   "cell_type": "code",
   "execution_count": 2,
   "metadata": {
    "ExecuteTime": {
     "end_time": "2020-05-30T20:40:27.837603Z",
     "start_time": "2020-05-30T20:40:27.835603Z"
    }
   },
   "outputs": [],
   "source": [
    "import collections"
   ]
  },
  {
   "cell_type": "code",
   "execution_count": 5,
   "metadata": {
    "ExecuteTime": {
     "end_time": "2020-05-30T20:44:32.133603Z",
     "start_time": "2020-05-30T20:44:32.130603Z"
    }
   },
   "outputs": [],
   "source": [
    "Student = collections.namedtuple('Student', ['name', 'age', 'sex'])"
   ]
  },
  {
   "cell_type": "code",
   "execution_count": 36,
   "metadata": {
    "ExecuteTime": {
     "end_time": "2020-05-30T20:57:22.595603Z",
     "start_time": "2020-05-30T20:57:22.590603Z"
    }
   },
   "outputs": [],
   "source": [
    "class Group(collections.UserDict):\n",
    "    \n",
    "    def __missing__(self, key):\n",
    "        if isinstance(key, str):\n",
    "            raise KeyError(key)\n",
    "        return self[str(key)]\n",
    "    \n",
    "    def __contains__(self, key):\n",
    "        return str(key) in self.data\n",
    "    \n",
    "    def __setitem__(self, key, item):\n",
    "        if isinstance(item, tuple):\n",
    "            self.data[str(key)] = item\n",
    "        else:\n",
    "            print(\"Item should be the namedtuple\")"
   ]
  },
  {
   "cell_type": "code",
   "execution_count": 37,
   "metadata": {
    "ExecuteTime": {
     "end_time": "2020-05-30T20:57:23.050603Z",
     "start_time": "2020-05-30T20:57:23.047603Z"
    }
   },
   "outputs": [],
   "source": [
    "st_1 = Student('masha', 16, 'girl')\n",
    "st_2 = Student('misha', 15, 'boy')\n",
    "st_3 = Student('vanya', 17, 'boy')\n",
    "st_4 = Student('nicka', 17, 'girl')\n",
    "st_5 = Student('gosha', 15, 'boy')"
   ]
  },
  {
   "cell_type": "code",
   "execution_count": 38,
   "metadata": {
    "ExecuteTime": {
     "end_time": "2020-05-30T20:57:23.204603Z",
     "start_time": "2020-05-30T20:57:23.201603Z"
    }
   },
   "outputs": [],
   "source": [
    "our_group = Group([\n",
    "    ('1', st_1),\n",
    "    ('2', st_2),\n",
    "    ('3', st_3),\n",
    "    ('4', st_4),\n",
    "    ('5', st_5)\n",
    "])"
   ]
  },
  {
   "cell_type": "code",
   "execution_count": 39,
   "metadata": {
    "ExecuteTime": {
     "end_time": "2020-05-30T20:57:23.360603Z",
     "start_time": "2020-05-30T20:57:23.356603Z"
    }
   },
   "outputs": [
    {
     "data": {
      "text/plain": [
       "Student(name='masha', age=16, sex='girl')"
      ]
     },
     "execution_count": 39,
     "metadata": {},
     "output_type": "execute_result"
    }
   ],
   "source": [
    "our_group[1]"
   ]
  },
  {
   "cell_type": "code",
   "execution_count": 40,
   "metadata": {
    "ExecuteTime": {
     "end_time": "2020-05-30T20:57:23.504603Z",
     "start_time": "2020-05-30T20:57:23.500603Z"
    }
   },
   "outputs": [
    {
     "data": {
      "text/plain": [
       "Student(name='misha', age=15, sex='boy')"
      ]
     },
     "execution_count": 40,
     "metadata": {},
     "output_type": "execute_result"
    }
   ],
   "source": [
    "our_group['2']"
   ]
  },
  {
   "cell_type": "code",
   "execution_count": 41,
   "metadata": {
    "ExecuteTime": {
     "end_time": "2020-05-30T20:57:23.628603Z",
     "start_time": "2020-05-30T20:57:23.626603Z"
    }
   },
   "outputs": [],
   "source": [
    "misha = st_2"
   ]
  },
  {
   "cell_type": "code",
   "execution_count": 42,
   "metadata": {
    "ExecuteTime": {
     "end_time": "2020-05-30T20:57:23.794603Z",
     "start_time": "2020-05-30T20:57:23.790603Z"
    }
   },
   "outputs": [
    {
     "data": {
      "text/plain": [
       "True"
      ]
     },
     "execution_count": 42,
     "metadata": {},
     "output_type": "execute_result"
    }
   ],
   "source": [
    "misha in our_group.values()"
   ]
  },
  {
   "cell_type": "code",
   "execution_count": 43,
   "metadata": {
    "ExecuteTime": {
     "end_time": "2020-05-30T20:57:23.954603Z",
     "start_time": "2020-05-30T20:57:23.950603Z"
    }
   },
   "outputs": [
    {
     "name": "stdout",
     "output_type": "stream",
     "text": [
      "Key Error\n"
     ]
    }
   ],
   "source": [
    "try:\n",
    "    our_group[6]\n",
    "except KeyError:\n",
    "    print(\"Key Error\")"
   ]
  },
  {
   "cell_type": "code",
   "execution_count": 44,
   "metadata": {
    "ExecuteTime": {
     "end_time": "2020-05-30T20:57:24.105603Z",
     "start_time": "2020-05-30T20:57:24.102603Z"
    }
   },
   "outputs": [
    {
     "name": "stdout",
     "output_type": "stream",
     "text": [
      "Item should be the namedtuple\n"
     ]
    }
   ],
   "source": [
    "our_group[6] = 7"
   ]
  },
  {
   "cell_type": "code",
   "execution_count": 45,
   "metadata": {
    "ExecuteTime": {
     "end_time": "2020-05-30T20:57:24.775603Z",
     "start_time": "2020-05-30T20:57:24.771603Z"
    },
    "scrolled": true
   },
   "outputs": [
    {
     "data": {
      "text/plain": [
       "{'1': Student(name='masha', age=16, sex='girl'), '2': Student(name='misha', age=15, sex='boy'), '3': Student(name='vanya', age=17, sex='boy'), '4': Student(name='nicka', age=17, sex='girl'), '5': Student(name='gosha', age=15, sex='boy')}"
      ]
     },
     "execution_count": 45,
     "metadata": {},
     "output_type": "execute_result"
    }
   ],
   "source": [
    "our_group"
   ]
  }
 ],
 "metadata": {
  "hide_input": false,
  "kernelspec": {
   "display_name": "Python 3",
   "language": "python",
   "name": "python3"
  },
  "language_info": {
   "codemirror_mode": {
    "name": "ipython",
    "version": 3
   },
   "file_extension": ".py",
   "mimetype": "text/x-python",
   "name": "python",
   "nbconvert_exporter": "python",
   "pygments_lexer": "ipython3",
   "version": "3.8.1"
  },
  "toc": {
   "base_numbering": 1,
   "nav_menu": {},
   "number_sections": true,
   "sideBar": true,
   "skip_h1_title": false,
   "title_cell": "Table of Contents",
   "title_sidebar": "Contents",
   "toc_cell": false,
   "toc_position": {},
   "toc_section_display": true,
   "toc_window_display": true
  },
  "varInspector": {
   "cols": {
    "lenName": 16,
    "lenType": 16,
    "lenVar": 40
   },
   "kernels_config": {
    "python": {
     "delete_cmd_postfix": "",
     "delete_cmd_prefix": "del ",
     "library": "var_list.py",
     "varRefreshCmd": "print(var_dic_list())"
    },
    "r": {
     "delete_cmd_postfix": ") ",
     "delete_cmd_prefix": "rm(",
     "library": "var_list.r",
     "varRefreshCmd": "cat(var_dic_list()) "
    }
   },
   "types_to_exclude": [
    "module",
    "function",
    "builtin_function_or_method",
    "instance",
    "_Feature"
   ],
   "window_display": false
  }
 },
 "nbformat": 4,
 "nbformat_minor": 4
}
